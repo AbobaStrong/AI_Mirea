{
 "cells": [
  {
   "cell_type": "markdown",
   "id": "0070f506",
   "metadata": {},
   "source": [
    "# Рабочая тетрадь № 1"
   ]
  },
  {
   "cell_type": "markdown",
   "id": "5c3b78d3",
   "metadata": {},
   "source": [
    "# Задание 1.2"
   ]
  },
  {
   "cell_type": "code",
   "execution_count": 41,
   "id": "244c68a6",
   "metadata": {},
   "outputs": [],
   "source": [
    "x = 3+5.2*7\n",
    "y = None\n",
    "z = 'a',5,12.345,(2,'b')\n",
    "df = [['Aнтонова Антонина',34,'ж'],['Борисов Борис',26,'м']]\n",
    "A = {1,'title',2,'content'}"
   ]
  },
  {
   "cell_type": "code",
   "execution_count": 42,
   "id": "9db599ee",
   "metadata": {},
   "outputs": [
    {
     "name": "stdout",
     "output_type": "stream",
     "text": [
      "39.4 | <class 'float'> \n",
      " None | <class 'NoneType'> \n",
      " ('a', 5, 12.345, (2, 'b')) | <class 'tuple'> \n",
      " [['Aнтонова Антонина', 34, 'ж'], ['Борисов Борис', 26, 'м']] | <class 'list'> \n",
      " {'title', 1, 2, 'content'} <class 'set'>\n"
     ]
    }
   ],
   "source": [
    "print(x,'|',type(x),'\\n',y,'|',type(y),'\\n',z,'|',type(z),'\\n',df,'|',type(df),'\\n',A,type(A)"
   ]
  },
  {
   "cell_type": "markdown",
   "id": "340ac788",
   "metadata": {},
   "source": [
    "# Задание 1.3"
   ]
  },
  {
   "cell_type": "code",
   "execution_count": 43,
   "id": "af48dc36",
   "metadata": {},
   "outputs": [],
   "source": [
    "x = 5>=2\n",
    "A = {1,3,7,8}\n",
    "B = {2,4,5,10, 'apple'}\n",
    "C = A&B\n",
    "df= 'Антонова Антонина', 34, 'ж'\n",
    "z = 'type'\n",
    "D = [1,'tittle',2,'content']"
   ]
  },
  {
   "cell_type": "code",
   "execution_count": 45,
   "id": "2d1579c0",
   "metadata": {},
   "outputs": [
    {
     "name": "stdout",
     "output_type": "stream",
     "text": [
      "True : <class 'bool'> \n",
      " {8, 1, 3, 7} : <class 'set'> \n",
      " {2, 4, 'apple', 5, 10} : <class 'set'> \n",
      " set() : <class 'set'> \n",
      " ('Антонова Антонина', 34, 'ж') : <class 'tuple'> \n",
      " type : <class 'str'> \n",
      " [1, 'tittle', 2, 'content'] : <class 'list'> \n",
      "\n"
     ]
    }
   ],
   "source": [
    "print(x, ':', type(x), '\\n', A, ':', type(A), '\\n', B, ':', type(B), '\\n',C, ':', type(C), '\\n',df, ':', type(df), '\\n',z, ':', type(z), '\\n',D, ':', type(D), '\\n',)"
   ]
  },
  {
   "cell_type": "markdown",
   "id": "fcc9498c",
   "metadata": {},
   "source": [
    "# 2.2 Пример"
   ]
  },
  {
   "cell_type": "markdown",
   "id": "372a4b2a",
   "metadata": {},
   "source": [
    "Вывести на экран является ли переменная х положительной,\n",
    "отрицательной или равна нулю."
   ]
  },
  {
   "cell_type": "code",
   "execution_count": 7,
   "id": "364af262",
   "metadata": {},
   "outputs": [
    {
     "name": "stdout",
     "output_type": "stream",
     "text": [
      "Положительный\n"
     ]
    }
   ],
   "source": [
    "x = 125\n",
    "if x > 0:\n",
    "    print(\"Положительный\")\n",
    "elif x == 0:\n",
    "    print(\"x равен нулю\")\n",
    "else:\n",
    "    print(\"Отрицательный\")"
   ]
  },
  {
   "cell_type": "markdown",
   "id": "6f4ad4e3",
   "metadata": {},
   "source": [
    "# Задание 2.3"
   ]
  },
  {
   "cell_type": "code",
   "execution_count": 18,
   "id": "8fafe95a",
   "metadata": {},
   "outputs": [
    {
     "name": "stdout",
     "output_type": "stream",
     "text": [
      "5\n",
      "x принадлежит отрезку [-5,5]\n"
     ]
    }
   ],
   "source": [
    "x = int(input())\n",
    "if(x < -5):\n",
    "    print('x принадлежит интервалу (-infinity, -5)')\n",
    "elif(x > 5):\n",
    "    print('x принадлежит интервалу (5, +infinity)')\n",
    "\n",
    "else:\n",
    "    print('x принадлежит отрезку [-5,5]')"
   ]
  },
  {
   "cell_type": "markdown",
   "id": "17683322",
   "metadata": {},
   "source": [
    "# 3.2.1 Пример"
   ]
  },
  {
   "cell_type": "markdown",
   "id": "169f38c1",
   "metadata": {},
   "source": [
    "Вывести все числа от 1 до 10 с шагом 3."
   ]
  },
  {
   "cell_type": "code",
   "execution_count": 48,
   "id": "541d2bac",
   "metadata": {},
   "outputs": [
    {
     "name": "stdout",
     "output_type": "stream",
     "text": [
      "1\n",
      "4\n",
      "7\n",
      "10\n"
     ]
    }
   ],
   "source": [
    "x = 1\n",
    "while x <= 10:\n",
    "    print(x)\n",
    "    x +=3# 3.2.2 Пример"
   ]
  },
  {
   "cell_type": "markdown",
   "id": "df007d2a",
   "metadata": {},
   "source": [
    "# 3.2.2 Пример"
   ]
  },
  {
   "cell_type": "markdown",
   "id": "b2446583",
   "metadata": {},
   "source": [
    "Задан список. Напечатать все элементы списка."
   ]
  },
  {
   "cell_type": "code",
   "execution_count": 9,
   "id": "ef50445c",
   "metadata": {},
   "outputs": [
    {
     "name": "stdout",
     "output_type": "stream",
     "text": [
      "KNN\n",
      "desicion tree\n",
      "linear tree\n"
     ]
    }
   ],
   "source": [
    "models = ['KNN', 'desicion tree', 'linear tree']\n",
    "for model in models:\n",
    "    print(model)"
   ]
  },
  {
   "cell_type": "markdown",
   "id": "8fdfe70f",
   "metadata": {},
   "source": [
    "# 3.2.3 Пример"
   ]
  },
  {
   "cell_type": "raw",
   "id": "251319f8",
   "metadata": {},
   "source": [
    "Создать список от 1 до 99 с шагом 7."
   ]
  },
  {
   "cell_type": "code",
   "execution_count": 10,
   "id": "09059f84",
   "metadata": {},
   "outputs": [
    {
     "name": "stdout",
     "output_type": "stream",
     "text": [
      "[1, 8, 15, 22, 29, 36, 43, 50, 57, 64, 71, 78, 85, 92, 99]\n"
     ]
    }
   ],
   "source": [
    "list_int = range (1, 100, 7)\n",
    "print(list(list_int))"
   ]
  },
  {
   "cell_type": "markdown",
   "id": "a1e88773",
   "metadata": {},
   "source": [
    "# 3.2.4 Пример"
   ]
  },
  {
   "cell_type": "markdown",
   "id": "22a0f33b",
   "metadata": {},
   "source": [
    "Вывести на экран числа от 1 до 105 с шагом 25, используя функцию\n",
    "range()"
   ]
  },
  {
   "cell_type": "code",
   "execution_count": 11,
   "id": "c7b8805c",
   "metadata": {},
   "outputs": [
    {
     "name": "stdout",
     "output_type": "stream",
     "text": [
      "5\n",
      "30\n",
      "55\n",
      "80\n",
      "105\n"
     ]
    }
   ],
   "source": [
    "for i in range(5, 106, 25):\n",
    "    print(i)"
   ]
  },
  {
   "cell_type": "markdown",
   "id": "16985a68",
   "metadata": {},
   "source": [
    "# 3.2.5 Пример"
   ]
  },
  {
   "cell_type": "markdown",
   "id": "1ab6f535",
   "metadata": {},
   "source": [
    "Срез. Необходимо получить каждый k-й элемент массива a, начиная с\n",
    "элемента с индексом i (включительно) и заканчивая элементом с\n",
    "индексом j (не включительно), c шагом 2. Или переставить все\n",
    "элементы в обратном порядке."
   ]
  },
  {
   "cell_type": "code",
   "execution_count": 13,
   "id": "57297bc4",
   "metadata": {},
   "outputs": [
    {
     "name": "stdout",
     "output_type": "stream",
     "text": [
      "[2, 4, 6]\n",
      "[1, 2, 3, 4, 5, 6, 7, 8, 9]\n"
     ]
    }
   ],
   "source": [
    "a = [1,2,3,4,5,6,7,8,9]\n",
    "b = a[1:7:2]\n",
    "c = a[::1]\n",
    "print (b)\n",
    "print (c)"
   ]
  },
  {
   "cell_type": "code",
   "execution_count": null,
   "id": "7e640c12",
   "metadata": {},
   "outputs": [],
   "source": []
  },
  {
   "cell_type": "markdown",
   "id": "3a58450e",
   "metadata": {},
   "source": [
    "# Задание 3.3.1"
   ]
  },
  {
   "cell_type": "code",
   "execution_count": 19,
   "id": "aa7433c6",
   "metadata": {},
   "outputs": [
    {
     "name": "stdout",
     "output_type": "stream",
     "text": [
      "10\n",
      "7\n",
      "4\n",
      "1\n"
     ]
    }
   ],
   "source": [
    "x = 10\n",
    "while x >= 1:\n",
    "    print(x)\n",
    "    x -= 3"
   ]
  },
  {
   "cell_type": "markdown",
   "id": "7a2fb9c0",
   "metadata": {},
   "source": [
    "# Задание 3.3.2"
   ]
  },
  {
   "cell_type": "code",
   "execution_count": 20,
   "id": "b843acd2",
   "metadata": {},
   "outputs": [
    {
     "name": "stdout",
     "output_type": "stream",
     "text": [
      "male\n",
      "18\n",
      "180\n",
      "student\n",
      "some_data\n"
     ]
    }
   ],
   "source": [
    "human = ['male', 18, 180, 'student','some_data']\n",
    "for item in human:\n",
    "    print(item)"
   ]
  },
  {
   "cell_type": "markdown",
   "id": "95328553",
   "metadata": {},
   "source": [
    "# Задание 3.3.3"
   ]
  },
  {
   "cell_type": "code",
   "execution_count": 33,
   "id": "3eb8d743",
   "metadata": {},
   "outputs": [],
   "source": [
    "array = []\n",
    "for i in range(2,16):\n",
    "    array.append(i)"
   ]
  },
  {
   "cell_type": "markdown",
   "id": "4738e89a",
   "metadata": {},
   "source": [
    "# Задание 3.3.4"
   ]
  },
  {
   "cell_type": "code",
   "execution_count": 22,
   "id": "aa87c07c",
   "metadata": {},
   "outputs": [
    {
     "name": "stdout",
     "output_type": "stream",
     "text": [
      "105\n",
      "80\n",
      "55\n",
      "30\n"
     ]
    }
   ],
   "source": [
    "for i in range(105,5,-25):\n",
    "    print(i)"
   ]
  },
  {
   "cell_type": "markdown",
   "id": "6ae39feb",
   "metadata": {},
   "source": [
    "# Задание 3.3.5"
   ]
  },
  {
   "cell_type": "code",
   "execution_count": 37,
   "id": "52404a06",
   "metadata": {},
   "outputs": [
    {
     "name": "stdout",
     "output_type": "stream",
     "text": [
      "[8, 1, 6, 3, 4, 5, 2, 7, 0, 9]\n"
     ]
    }
   ],
   "source": [
    "x = [0, 1, 2, 3, 4, 5, 6, 7, 8, 9]\n",
    "a = x[::-2]\n",
    "b = x[::2]\n",
    "a= a[::-1]\n",
    "b = b[::-1]\n",
    "c=[]\n",
    "for i in range(0,5,1):\n",
    "    c.append(b[i])\n",
    "    c.append(a[i])\n",
    "print(c)"
   ]
  },
  {
   "cell_type": "markdown",
   "id": "8f1e2b1e",
   "metadata": {},
   "source": [
    "# 4.2.2 Пример"
   ]
  },
  {
   "cell_type": "markdown",
   "id": "0cbc0223",
   "metadata": {},
   "source": [
    "Для функции sin(𝑥𝑒^(cos(𝑥))) на интервале [0;10] с шагом 0,05 построить\n",
    "график функции, закрасить площадь под ним и вычислить значение\n",
    "этой площади.\n",
    "Для вычисления площади воспользуйте функции trapz(), вычисляющей\n",
    "интеграл по правилу трапеции. Для ее корректной работы необходимо\n",
    "подключить следующие библиотеки:\n",
    "from scipy.integrate import simps\n",
    "from numpy import trapz"
   ]
  },
  {
   "cell_type": "code",
   "execution_count": 4,
   "id": "7f83b593",
   "metadata": {},
   "outputs": [
    {
     "name": "stdout",
     "output_type": "stream",
     "text": [
      "73.50792907748662\n"
     ]
    },
    {
     "data": {
      "image/png": "[encoded data removed]",
      "text/plain": [
       "<Figure size 640x480 with 1 Axes>"
      ]
     },
     "metadata": {},
     "output_type": "display_data"
    }
   ],
   "source": [
    "import numpy as np\n",
    "import matplotlib.pyplot as plt\n",
    "from scipy.integrate import simps\n",
    "from numpy import trapz\n",
    "x = np.arange (0., 10, 0.1)\n",
    "y = np.abs(np.sin(x*np.exp(np.cos(x))))\n",
    "plt.grid()\n",
    "plt.plot(x, y, c = 'r')\n",
    "plt.fill_between(x, y)\n",
    "\n",
    "area = trapz(y)\n",
    "print (area)"
   ]
  },
  {
   "cell_type": "markdown",
   "id": "74e06b33",
   "metadata": {},
   "source": [
    "# 4.2.3 Пример"
   ]
  },
  {
   "cell_type": "markdown",
   "id": "5b674873",
   "metadata": {},
   "source": [
    "Дано некоторое распределение оценок в группе за экзамен. Нарисовать\n",
    "круговую и точечную диаграммы распределения."
   ]
  },
  {
   "cell_type": "code",
   "execution_count": 1,
   "id": "75d0de66",
   "metadata": {},
   "outputs": [
    {
     "data": {
      "image/png": "[encoded data removed]",
      "text/plain": [
       "<Figure size 1000x700 with 1 Axes>"
      ]
     },
     "metadata": {},
     "output_type": "display_data"
    },
    {
     "data": {
      "text/plain": [
       "<matplotlib.collections.PathCollection at 0x1d12b22f7f0>"
      ]
     },
     "execution_count": 1,
     "metadata": {},
     "output_type": "execute_result"
    },
    {
     "data": {
      "image/png": "[encoded data removed]",
      "text/plain": [
       "<Figure size 640x480 with 1 Axes>"
      ]
     },
     "metadata": {},
     "output_type": "display_data"
    }
   ],
   "source": [
    "import matplotlib.pyplot as plt\n",
    "import numpy as np\n",
    "\n",
    "marks = ['Неуд', 'Удовл', 'Хор', 'Отл']\n",
    "\n",
    "data = [3, 7, 8, 4]\n",
    "fig = plt.figure(figsize = (10, 7))\n",
    "plt.pie(data, labels = marks)\n",
    "plt.show ()\n",
    "plt.grid ()\n",
    "plt.scatter (marks, data)"
   ]
  },
  {
   "cell_type": "code",
   "execution_count": null,
   "id": "7123cb4b",
   "metadata": {},
   "outputs": [],
   "source": []
  },
  {
   "cell_type": "markdown",
   "id": "c2a0f9ad",
   "metadata": {},
   "source": [
    "# Задача 4.3.1"
   ]
  },
  {
   "cell_type": "code",
   "execution_count": 24,
   "id": "a770785d",
   "metadata": {},
   "outputs": [
    {
     "name": "stdout",
     "output_type": "stream",
     "text": [
      "Array: [0.97439099 0.55703914 0.31276457 0.37436147 0.74578491 0.5823471\n",
      " 0.99551378 0.55092151 0.0462649  0.33266717]\n",
      "Mean: 0.5472055536171758\n",
      "Median: 0.5539803213250247\n"
     ]
    }
   ],
   "source": [
    "import numpy as np\n",
    "\n",
    "arr = np.random.rand(10)\n",
    "\n",
    "mean = np.mean(arr)\n",
    "median = np.median(arr)\n",
    "\n",
    "\n",
    "print(\"Array:\", arr)\n",
    "print(\"Mean:\", mean)\n",
    "print(\"Median:\", median)"
   ]
  },
  {
   "cell_type": "markdown",
   "id": "18558b3a",
   "metadata": {},
   "source": [
    "# Задача 4.3.2"
   ]
  },
  {
   "cell_type": "code",
   "execution_count": 25,
   "id": "719abe23",
   "metadata": {},
   "outputs": [],
   "source": [
    "import math\n",
    "\n",
    "def f(x):\n",
    "    return ((1 + math.e ** (x)**0.5 + math.cos(x**2)))**0.5 / (abs(1 - (math.sin(x))**3))   + math.log(abs(2*x))"
   ]
  },
  {
   "cell_type": "code",
   "execution_count": 26,
   "id": "0a018b29",
   "metadata": {},
   "outputs": [
    {
     "data": {
      "image/png": "[encoded data removed]",
      "text/plain": [
       "<Figure size 432x288 with 1 Axes>"
      ]
     },
     "metadata": {
      "needs_background": "light"
     },
     "output_type": "display_data"
    }
   ],
   "source": [
    "import numpy as np\n",
    "import matplotlib.pyplot as plt\n",
    "\n",
    "x = np.arange(1, 11)\n",
    "y = np.array([f(xi) for xi in x])\n",
    "y_slice = y[:5]\n",
    "\n",
    "plt.plot(x, y, label='Function')\n",
    "plt.scatter(x[:5], y_slice, label='Slice', color='red')\n",
    "plt.legend()\n",
    "plt.show()"
   ]
  },
  {
   "cell_type": "markdown",
   "id": "7d183061",
   "metadata": {},
   "source": [
    "# Задача 4.3.3"
   ]
  },
  {
   "cell_type": "code",
   "execution_count": 27,
   "id": "29f33e75",
   "metadata": {},
   "outputs": [],
   "source": [
    "def f(x):\n",
    "    return abs(math.cos(x*math.exp(math.cos(x)+math.log(x+1))))"
   ]
  },
  {
   "cell_type": "code",
   "execution_count": 28,
   "id": "04e1bb39",
   "metadata": {},
   "outputs": [
    {
     "data": {
      "image/png": "[encoded data removed]",
      "text/plain": [
       "<Figure size 432x288 with 1 Axes>"
      ]
     },
     "metadata": {
      "needs_background": "light"
     },
     "output_type": "display_data"
    }
   ],
   "source": [
    "x = np.arange(0, 10, 1)\n",
    "y = [f(i) for i in x]\n",
    "\n",
    "plt.fill_between(x, y)\n",
    "plt.plot(x, y)\n",
    "plt.show()"
   ]
  },
  {
   "cell_type": "code",
   "execution_count": 29,
   "id": "643815bc",
   "metadata": {},
   "outputs": [
    {
     "name": "stdout",
     "output_type": "stream",
     "text": [
      "6.260345875494747\n"
     ]
    }
   ],
   "source": [
    "from numpy import trapz\n",
    "\n",
    "area = trapz(y, x)\n",
    "print(area)"
   ]
  },
  {
   "cell_type": "markdown",
   "id": "26ae3e95",
   "metadata": {},
   "source": [
    "# Задача 4.3.4"
   ]
  },
  {
   "cell_type": "code",
   "execution_count": 30,
   "id": "4f30c0c0",
   "metadata": {},
   "outputs": [],
   "source": [
    "appleStock = [131.96,121.26,122.15,131.46,124.61,136.96,145.86,151.83,141.50,149.80,166.80,175.10]\n",
    "microsoftStock = [231.96,227.26,235.77,252.51,247.58,270.90,284.91,301.88,285.84,339.98,317.52,342.95]\n",
    "googleStock = [1835.74,2076.47,2068.63,2432.49,2406.67,2520.37,2704.42,2904.31,2726.30,2755.70,2745.19,2906.30]\n",
    "date = ['1', '2','3','4','5','6','7','8','9','10','11','12']"
   ]
  },
  {
   "cell_type": "code",
   "execution_count": 31,
   "id": "61040e84",
   "metadata": {},
   "outputs": [
    {
     "data": {
      "text/plain": [
       "<matplotlib.legend.Legend at 0x2399f384ca0>"
      ]
     },
     "execution_count": 31,
     "metadata": {},
     "output_type": "execute_result"
    },
    {
     "data": {
      "image/png": "[encoded data removed]",
      "text/plain": [
       "<Figure size 432x288 with 1 Axes>"
      ]
     },
     "metadata": {
      "needs_background": "light"
     },
     "output_type": "display_data"
    }
   ],
   "source": [
    "plt.plot(date, appleStock, label='Apple', color = 'red')\n",
    "plt.plot(date, microsoftStock, label='Microsoft', color = 'green')\n",
    "plt.plot(date, googleStock, label='Google', color = 'blue')\n",
    "plt.legend()"
   ]
  },
  {
   "cell_type": "markdown",
   "id": "6243d850",
   "metadata": {},
   "source": [
    "# Задача 4.3.5"
   ]
  },
  {
   "cell_type": "code",
   "execution_count": 38,
   "id": "2535a401",
   "metadata": {},
   "outputs": [
    {
     "name": "stdout",
     "output_type": "stream",
     "text": [
      "Введите первое число: 3\n",
      "Введите второе число: 4\n",
      "Выберите операцию:\n",
      "1. +\n",
      "2. -\n",
      "3. *\n",
      "4. /\n",
      "5. x^y\n",
      "6. e^(x+y)\n",
      "7. sin(x+y)\n",
      "8. cos(x+y)\n",
      "Введите свой выбор (1-8): 1\n",
      "Результат:  7.0\n"
     ]
    }
   ],
   "source": [
    "def calculator():\n",
    "    while True:\n",
    "        try:\n",
    "            x = float(input(\"Введите первое число: \"))\n",
    "            y = float(input(\"Введите второе число: \"))\n",
    "            break\n",
    "        except:\n",
    "            print(\"Неверный ввод, попробуйте снова.\")\n",
    "\n",
    "    print(\"Выберите операцию:\")\n",
    "    print(\"1. +\")\n",
    "    print(\"2. -\")\n",
    "    print(\"3. *\")\n",
    "    print(\"4. /\")\n",
    "    print(\"5. x^y\")\n",
    "    print(\"6. e^(x+y)\")\n",
    "    print(\"7. sin(x+y)\")\n",
    "    print(\"8. cos(x+y)\")\n",
    "\n",
    "    while True:\n",
    "        try:\n",
    "            choice = int(input(\"Введите свой выбор (1-8): \"))\n",
    "            break\n",
    "        except:\n",
    "            print(\"Неверный ввод.\")\n",
    "\n",
    "    if choice == 1:\n",
    "        print(\"Результат: \", x + y)\n",
    "    elif choice == 2:\n",
    "        print(\"Результат: \", x - y)\n",
    "    elif choice == 3:\n",
    "        print(\"Результат: \", x * y)\n",
    "    elif choice == 4:\n",
    "        if y == 0:\n",
    "            print(\"Ошибка: деление на 0\")\n",
    "        else:\n",
    "            print(\"Результат: \", x / y)\n",
    "    elif choice == 5:\n",
    "        print(\"Результат: \", x ** y)\n",
    "    elif choice == 6:\n",
    "        print(\"Результат: \", math.exp(x + y))\n",
    "    elif choice == 7:\n",
    "        print(\"Результат: \", math.sin(x + y))\n",
    "    elif choice == 8:\n",
    "        print(\"Результат: \", math.cos(x + y))\n",
    "    else:\n",
    "        print(\"Неверный ввод, попробуйте снова.\")\n",
    "\n",
    "calculator()"
   ]
  }
 ],
 "metadata": {
  "kernelspec": {
   "display_name": "Python 3 (ipykernel)",
   "language": "python",
   "name": "python3"
  },
  "language_info": {
   "codemirror_mode": {
    "name": "ipython",
    "version": 3
   },
   "file_extension": ".py",
   "mimetype": "text/x-python",
   "name": "python",
   "nbconvert_exporter": "python",
   "pygments_lexer": "ipython3",
   "version": "3.9.12"
  }
 },
 "nbformat": 4,
 "nbformat_minor": 5
}
