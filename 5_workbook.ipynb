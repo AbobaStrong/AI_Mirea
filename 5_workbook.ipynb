{
 "cells": [
  {
   "cell_type": "markdown",
   "id": "56692167",
   "metadata": {},
   "source": [
    "# Рабочая тетрадь 5\n",
    "## Хузяханов Егор"
   ]
  },
  {
   "cell_type": "markdown",
   "id": "a4bacf1b",
   "metadata": {},
   "source": [
    "## Пример 1.2.1"
   ]
  },
  {
   "cell_type": "code",
   "execution_count": 2,
   "id": "22b98f5c",
   "metadata": {
    "pycharm": {
     "name": "#%%\n"
    }
   },
   "outputs": [
    {
     "name": "stdout",
     "output_type": "stream",
     "text": [
      "['inheritance']\n",
      "['inheritance', 'class']\n"
     ]
    }
   ],
   "source": [
    "class Data:\n",
    "    def __init__(self, *info):    self.info = list(info)\n",
    "    def __getitem__(self, i):\n",
    "        return self.info [i]\n",
    "class Teacher:\n",
    "    def teach(self, info, *pupil):\n",
    "        for i in pupil:\n",
    "            i.take(info)\n",
    "class Pupil:\n",
    "    def __init__(self):\n",
    "        self.knowledge = []\n",
    "    def take(self, info):\n",
    "        self. knowledge.append(info)\n",
    "lesson = Data('class', 'object', 'inheritance', 'polymorphism', 'encapsulation')\n",
    "marIvanna = Teacher()\n",
    "vasy = Pupil()\n",
    "pety = Pupil()\n",
    "marIvanna.teach(lesson[2], vasy, pety)\n",
    "marIvanna.teach(lesson[0], pety)\n",
    "print(vasy. knowledge)\n",
    "print(pety. knowledge)"
   ]
  },
  {
   "cell_type": "markdown",
   "id": "7f89c967",
   "metadata": {
    "pycharm": {
     "name": "#%% md\n"
    }
   },
   "source": [
    "## Пример 1.2.2 "
   ]
  },
  {
   "cell_type": "code",
   "execution_count": 3,
   "id": "a65ab8f4",
   "metadata": {
    "pycharm": {
     "name": "#%%\n"
    }
   },
   "outputs": [
    {
     "name": "stdout",
     "output_type": "stream",
     "text": [
      "Enter 1 to attack. Enter 2 to stop program:1\n",
      "Warrior1  has attacked\n",
      "80  left\n",
      "Enter 1 to let some warrior attack:1\n",
      "Warrior2  has attacked\n",
      "80  left\n",
      "Enter 1 to let some warrior attack:2\n"
     ]
    }
   ],
   "source": [
    "import random\n",
    "class Warrior:\n",
    "    def __init__(self, health):\n",
    "        self.health = health\n",
    "    def hit(self, target, target1):\n",
    "        if target.health > 0:\n",
    "            target.health -= 20\n",
    "        if target1 == warrior1:\n",
    "            target1 = \"Warrior1\"\n",
    "        if target1 == warrior2:\n",
    "            target1 = \"Warrior2\"\n",
    "        print(target1, \" has attacked\")\n",
    "        print(target.health, \" left\")\n",
    "        if target.health == 0:\n",
    "            print(target1, \" has won\")\n",
    "warrior1 = Warrior(100)\n",
    "warrior2 = Warrior(100)\n",
    "q = int(input(\"Enter 1 to attack. Enter 2 to stop program:\"))\n",
    "while q != 2:\n",
    "    if q == 1:\n",
    "        j = random.randint(1,3)\n",
    "        if j % 2 == 0:\n",
    "            warrior1.hit(warrior2,warrior1)\n",
    "            q = int(input(\"Enter 1 to let some warrior attack:\"))\n",
    "        else:\n",
    "            warrior2.hit(warrior1, warrior2)\n",
    "            q = int(input(\"Enter 1 to let some warrior attack:\"))\n",
    "    else:\n",
    "        print(\"Wrong input.\")\n",
    "        break\n"
   ]
  },
  {
   "cell_type": "markdown",
   "id": "9501467a",
   "metadata": {
    "pycharm": {
     "name": "#%% md\n"
    }
   },
   "source": [
    "## Пример 1.2.3 "
   ]
  },
  {
   "cell_type": "code",
   "execution_count": 4,
   "id": "71f04c3d",
   "metadata": {
    "pycharm": {
     "name": "#%%\n"
    }
   },
   "outputs": [
    {
     "name": "stdout",
     "output_type": "stream",
     "text": [
      "5/6\n",
      "1/6\n",
      "1/6\n",
      "1/6\n",
      "3/2\n",
      "1/2\n"
     ]
    }
   ],
   "source": [
    "class Rational:\n",
    "    @staticmethod\n",
    "    def gcd(a,b):\n",
    "        while (b != 0):\n",
    "            (a,b) = (b, a%b)\n",
    "        return a\n",
    "\n",
    "    @staticmethod\n",
    "    def sgn(x):\n",
    "        if x>0:\n",
    "            return 1\n",
    "        elif x<0:\n",
    "            return -1\n",
    "        else:\n",
    "            return 0\n",
    "    def __init__(self,n,d):\n",
    "        if n==0:\n",
    "            self.num=0\n",
    "            self.den=1\n",
    "        else:\n",
    "            z=self.sgn(n)*self.sgn(d)\n",
    "            n=abs(n)\n",
    "            d=abs(d)\n",
    "            k=self.gcd(n, d)\n",
    "            self.num=z*n//k\n",
    "            self.den=d//k\n",
    "    def __str__(self):\n",
    "        if self.num==0:\n",
    "            return \"0\"\n",
    "        else:\n",
    "            return str(self.num)+\"/\"+str(self.den)\n",
    "    def __add__(self,o):\n",
    "        n1=self.num\n",
    "        d1=self. den\n",
    "        if type(o)==int:\n",
    "            n2=0\n",
    "            d2=1\n",
    "        else:\n",
    "            n2=o.num\n",
    "            d2=o.den\n",
    "        n=n1*d2+n2*d1\n",
    "        d=d1*d2\n",
    "        return Rational(n,d)\n",
    "\n",
    "    def __radd__(self,o):\n",
    "        n1=self.num\n",
    "        d1=self.den\n",
    "        if type(o)==int:\n",
    "            n2=0\n",
    "            d2=1\n",
    "        else:\n",
    "            n2=o.num\n",
    "            d2=o.den\n",
    "        n=n1*d2+n2*d1\n",
    "        d=d1*d2\n",
    "        return Rational(n, d)\n",
    "    def __sub__(self,o):\n",
    "        n1=self.num\n",
    "        d1=self. den\n",
    "        n2=o.num\n",
    "        d2=o.den\n",
    "        n=n1*d2-n2*d1\n",
    "        d=d1*d2\n",
    "        return Rational(n, d)\n",
    "    def __mul__(self,o):\n",
    "        n1=self.num\n",
    "        d1=self.den\n",
    "        n2=o.num\n",
    "        d2=o.den\n",
    "        n=n1*n2\n",
    "        d=d1*d2\n",
    "        return Rational(n, d)\n",
    "    def __floordiv__(self,o):\n",
    "        n1=self.num\n",
    "        d1=self.den\n",
    "        n2=o.num\n",
    "        d2=o.den\n",
    "        n=n1*d2\n",
    "        d=d1*n2\n",
    "        return Rational(n, d)\n",
    "d1=Rational(1,2)\n",
    "d2=Rational(1,3)\n",
    "d3=d1+d2\n",
    "print(d3)\n",
    "d4=d1-d2\n",
    "print(d4)\n",
    "d5=d1*d2\n",
    "print(d5)\n",
    "d6=d1*d2\n",
    "print(d6)\n",
    "d7=d1//d2\n",
    "print(d7)\n",
    "d8=6+d1\n",
    "print(d8)"
   ]
  },
  {
   "cell_type": "markdown",
   "id": "934f43b9",
   "metadata": {},
   "source": [
    "## Задание 1.2.3"
   ]
  },
  {
   "cell_type": "code",
   "execution_count": 1,
   "id": "e014bd04",
   "metadata": {},
   "outputs": [
    {
     "name": "stdout",
     "output_type": "stream",
     "text": [
      "0.8414709848078965\n",
      "0.5403023058681398\n",
      "1.5574077246549023\n",
      "1.5707963267948966\n",
      "0.0\n",
      "0.7853981633974483\n",
      "0.017453292519943295\n"
     ]
    }
   ],
   "source": [
    "import math\n",
    "class Trigon:\n",
    "    def __sin__(a):\n",
    "        num = math.sin(a)\n",
    "        return num\n",
    "    \n",
    "    def __cos__(a):\n",
    "        num = math.cos(a)\n",
    "        return num\n",
    "    \n",
    "    def __tan__(a):\n",
    "        num = math.tan(a)\n",
    "        return num\n",
    "    \n",
    "    def __arcsin__(a):\n",
    "        num = math.asin(a)\n",
    "        return num\n",
    "    \n",
    "    def __arccos__(a):\n",
    "        num = math.acos(a)\n",
    "        return num\n",
    "    \n",
    "    def __arctan__(a):\n",
    "        num = math.atan(a)\n",
    "        return num\n",
    "    \n",
    "    def __rad__(a):\n",
    "        num = math.radians(a)\n",
    "        return num\n",
    "print(Trigon.__sin__(1))\n",
    "print(Trigon.__cos__(1))\n",
    "print(Trigon.__tan__(1))\n",
    "print(Trigon.__arcsin__(1))\n",
    "print(Trigon.__arccos__(1))\n",
    "print(Trigon.__arctan__(1))\n",
    "print(Trigon.__rad__(1))"
   ]
  },
  {
   "cell_type": "markdown",
   "id": "8191758e",
   "metadata": {},
   "source": [
    "## Пример 1.2.1 "
   ]
  },
  {
   "cell_type": "code",
   "execution_count": 2,
   "id": "3a5dcb5f",
   "metadata": {
    "pycharm": {
     "name": "#%%\n"
    }
   },
   "outputs": [
    {
     "data": {
      "text/plain": [
       "'c'"
      ]
     },
     "execution_count": 2,
     "metadata": {},
     "output_type": "execute_result"
    }
   ],
   "source": [
    "class Tree:\n",
    "    def __init__(self, left, right):\n",
    "        self.left = left\n",
    "        self.right = right\n",
    "t = Tree(Tree(\"a\", \"b\"), Tree(\"c\", \"d\"))\n",
    "t.right.left"
   ]
  },
  {
   "cell_type": "markdown",
   "id": "41835572",
   "metadata": {},
   "source": [
    "## Пример 1.2.2 "
   ]
  },
  {
   "cell_type": "code",
   "execution_count": 3,
   "id": "ddd64843",
   "metadata": {
    "pycharm": {
     "name": "#%%\n"
    }
   },
   "outputs": [
    {
     "data": {
      "text/plain": [
       "'c'"
      ]
     },
     "execution_count": 3,
     "metadata": {},
     "output_type": "execute_result"
    }
   ],
   "source": [
    "class Tree:\n",
    "    def __init__(self, left, right):\n",
    "        self.left = left\n",
    "        self.right = right\n",
    "t = Tree(Tree(\"a\", \"b\"), Tree(\"c\", \"d\"))\n",
    "t.right.left"
   ]
  },
  {
   "cell_type": "markdown",
   "id": "4d52d1ad",
   "metadata": {},
   "source": [
    "## Задание 1.2.2 "
   ]
  },
  {
   "cell_type": "code",
   "execution_count": 5,
   "id": "e3b955f4",
   "metadata": {},
   "outputs": [
    {
     "name": "stdout",
     "output_type": "stream",
     "text": [
      "[[[0, 1, 2, 3, 4, 5, 6, 7, 8, 9], [0, 1, 2, 3, 4, 5, 6, 7, 8, 9]], [[0, 1, 2, 3, 4, 5, 6, 7, 8, 9]]]\n"
     ]
    }
   ],
   "source": [
    "a=[]\n",
    "b=[]\n",
    "c=[]\n",
    "d=[]\n",
    "e=[]\n",
    "f = []\n",
    "for x in range(10):\n",
    "    d.append(x)\n",
    "    e.append(x)\n",
    "    f.append(x)\n",
    "b.append(d)\n",
    "b.append(e)\n",
    "c.append(f)\n",
    "a.append(b)\n",
    "a.append(c)\n",
    "print(a)"
   ]
  },
  {
   "cell_type": "markdown",
   "id": "32900556",
   "metadata": {},
   "source": [
    "## Задание 1.2.2"
   ]
  },
  {
   "cell_type": "code",
   "execution_count": 7,
   "id": "10a05b48",
   "metadata": {},
   "outputs": [],
   "source": [
    "class Node:\n",
    "    def __init__(self, val):\n",
    "        self.l = None\n",
    "        self.r = None\n",
    "        self.v = val\n",
    "\n",
    "class Tree:\n",
    "    def __init__(self):\n",
    "        self.root = None\n",
    "\n",
    "    def add(self, val):\n",
    "        if self.root is None:\n",
    "            self.root = Node(val)\n",
    "        else:\n",
    "            self._add(val, self.root)\n",
    "\n",
    "    def _add(self, val, node):\n",
    "        if val < node.v:\n",
    "            if node.l is not None:\n",
    "                self._add(val, node.l)\n",
    "            else:\n",
    "                node.l = Node(val)\n",
    "        else:\n",
    "            if node.r is not None:\n",
    "                self._add(val, node.r)\n",
    "            else:\n",
    "                node.r = Node(val)\n",
    "\n",
    "    def find(self, val):\n",
    "        if self.root is not None:\n",
    "            return self._find(val, self.root)\n",
    "        else:\n",
    "            return None\n",
    "\n",
    "    def _find(self, val, node):\n",
    "        if val == node.v:\n",
    "            return node\n",
    "        elif (val < node.v and node.l is not None):\n",
    "            return self._find(val, node.l)\n",
    "        elif (val > node.v and node.r is not None):\n",
    "            return self._find(val, node.r)\n",
    "\n",
    "    def printTree(self):\n",
    "        if self.root is not None:\n",
    "            self._printTree(self.root)\n",
    "\n",
    "    def _printTree(self, node):\n",
    "        if node is not None:\n",
    "            self._printTree(node.l)\n",
    "            print(str(node.v) + ' ')\n",
    "            self._printTree(node.r)"
   ]
  },
  {
   "cell_type": "markdown",
   "id": "a8acfcaf",
   "metadata": {},
   "source": [
    "## Пример 1.3.1"
   ]
  },
  {
   "cell_type": "code",
   "execution_count": 9,
   "id": "8451cfbe",
   "metadata": {
    "pycharm": {
     "name": "#%%\n"
    }
   },
   "outputs": [
    {
     "data": {
      "text/html": [
       "<div>\n",
       "<style scoped>\n",
       "    .dataframe tbody tr th:only-of-type {\n",
       "        vertical-align: middle;\n",
       "    }\n",
       "\n",
       "    .dataframe tbody tr th {\n",
       "        vertical-align: top;\n",
       "    }\n",
       "\n",
       "    .dataframe thead th {\n",
       "        text-align: right;\n",
       "    }\n",
       "</style>\n",
       "<table border=\"1\" class=\"dataframe\">\n",
       "  <thead>\n",
       "    <tr style=\"text-align: right;\">\n",
       "      <th></th>\n",
       "      <th>sepal_length</th>\n",
       "      <th>sepal_width</th>\n",
       "      <th>petal_length</th>\n",
       "      <th>petal_width</th>\n",
       "      <th>species</th>\n",
       "    </tr>\n",
       "  </thead>\n",
       "  <tbody>\n",
       "    <tr>\n",
       "      <th>0</th>\n",
       "      <td>5.1</td>\n",
       "      <td>3.5</td>\n",
       "      <td>1.4</td>\n",
       "      <td>0.2</td>\n",
       "      <td>setosa</td>\n",
       "    </tr>\n",
       "    <tr>\n",
       "      <th>1</th>\n",
       "      <td>4.9</td>\n",
       "      <td>3.0</td>\n",
       "      <td>1.4</td>\n",
       "      <td>0.2</td>\n",
       "      <td>setosa</td>\n",
       "    </tr>\n",
       "    <tr>\n",
       "      <th>2</th>\n",
       "      <td>4.7</td>\n",
       "      <td>3.2</td>\n",
       "      <td>1.3</td>\n",
       "      <td>0.2</td>\n",
       "      <td>setosa</td>\n",
       "    </tr>\n",
       "    <tr>\n",
       "      <th>3</th>\n",
       "      <td>4.6</td>\n",
       "      <td>3.1</td>\n",
       "      <td>1.5</td>\n",
       "      <td>0.2</td>\n",
       "      <td>setosa</td>\n",
       "    </tr>\n",
       "    <tr>\n",
       "      <th>4</th>\n",
       "      <td>5.0</td>\n",
       "      <td>3.6</td>\n",
       "      <td>1.4</td>\n",
       "      <td>0.2</td>\n",
       "      <td>setosa</td>\n",
       "    </tr>\n",
       "  </tbody>\n",
       "</table>\n",
       "</div>"
      ],
      "text/plain": [
       "   sepal_length  sepal_width  petal_length  petal_width species\n",
       "0           5.1          3.5           1.4          0.2  setosa\n",
       "1           4.9          3.0           1.4          0.2  setosa\n",
       "2           4.7          3.2           1.3          0.2  setosa\n",
       "3           4.6          3.1           1.5          0.2  setosa\n",
       "4           5.0          3.6           1.4          0.2  setosa"
      ]
     },
     "execution_count": 9,
     "metadata": {},
     "output_type": "execute_result"
    }
   ],
   "source": [
    "import pandas as pd\n",
    "import numpy as np\n",
    "import seaborn as sns\n",
    "import matplotlib.pyplot as plt\n",
    "dataset = sns.load_dataset('iris')\n",
    "dataset\n",
    "dataset.shape\n",
    "dataset.head()"
   ]
  },
  {
   "cell_type": "code",
   "execution_count": 10,
   "id": "617d52d8",
   "metadata": {
    "pycharm": {
     "name": "#%%\n"
    }
   },
   "outputs": [
    {
     "data": {
      "text/plain": [
       "[Text(0.3, 0.9285714285714286, 'X[2] <= 2.35\\ngini = 0.666\\nsamples = 120\\nvalue = [39, 42, 39]'),\n",
       " Text(0.2, 0.7857142857142857, 'gini = 0.0\\nsamples = 39\\nvalue = [39, 0, 0]'),\n",
       " Text(0.4, 0.7857142857142857, 'X[2] <= 4.75\\ngini = 0.499\\nsamples = 81\\nvalue = [0, 42, 39]'),\n",
       " Text(0.3, 0.6428571428571429, 'gini = 0.0\\nsamples = 37\\nvalue = [0, 37, 0]'),\n",
       " Text(0.5, 0.6428571428571429, 'X[3] <= 1.75\\ngini = 0.201\\nsamples = 44\\nvalue = [0, 5, 39]'),\n",
       " Text(0.2, 0.5, 'X[2] <= 4.95\\ngini = 0.5\\nsamples = 8\\nvalue = [0, 4, 4]'),\n",
       " Text(0.1, 0.35714285714285715, 'gini = 0.0\\nsamples = 2\\nvalue = [0, 2, 0]'),\n",
       " Text(0.3, 0.35714285714285715, 'X[3] <= 1.55\\ngini = 0.444\\nsamples = 6\\nvalue = [0, 2, 4]'),\n",
       " Text(0.2, 0.21428571428571427, 'gini = 0.0\\nsamples = 3\\nvalue = [0, 0, 3]'),\n",
       " Text(0.4, 0.21428571428571427, 'X[2] <= 5.45\\ngini = 0.444\\nsamples = 3\\nvalue = [0, 2, 1]'),\n",
       " Text(0.3, 0.07142857142857142, 'gini = 0.0\\nsamples = 2\\nvalue = [0, 2, 0]'),\n",
       " Text(0.5, 0.07142857142857142, 'gini = 0.0\\nsamples = 1\\nvalue = [0, 0, 1]'),\n",
       " Text(0.8, 0.5, 'X[2] <= 4.85\\ngini = 0.054\\nsamples = 36\\nvalue = [0, 1, 35]'),\n",
       " Text(0.7, 0.35714285714285715, 'X[1] <= 3.1\\ngini = 0.444\\nsamples = 3\\nvalue = [0, 1, 2]'),\n",
       " Text(0.6, 0.21428571428571427, 'gini = 0.0\\nsamples = 2\\nvalue = [0, 0, 2]'),\n",
       " Text(0.8, 0.21428571428571427, 'gini = 0.0\\nsamples = 1\\nvalue = [0, 1, 0]'),\n",
       " Text(0.9, 0.35714285714285715, 'gini = 0.0\\nsamples = 33\\nvalue = [0, 0, 33]')]"
      ]
     },
     "execution_count": 10,
     "metadata": {},
     "output_type": "execute_result"
    },
    {
     "data": {
      "image/png": "[encoded data removed]",
      "text/plain": [
       "<Figure size 432x288 with 1 Axes>"
      ]
     },
     "metadata": {
      "needs_background": "light"
     },
     "output_type": "display_data"
    }
   ],
   "source": [
    "from sklearn.model_selection import train_test_split\n",
    "X_train, X_test, y_train, y_test = train_test_split(\n",
    "    dataset.iloc[:, :-1],\n",
    "    dataset.iloc[:, -1],\n",
    "    test_size = 0.20\n",
    ")\n",
    "X_train.shape, X_test.shape,y_train.shape, y_test.shape\n",
    "X_train.head()\n",
    "y_train. head()\n",
    "\n",
    "from sklearn.tree import DecisionTreeClassifier\n",
    "classifier = DecisionTreeClassifier()\n",
    "classifier.fit(X_train, y_train)\n",
    "#построим делево решений\n",
    "from sklearn import tree\n",
    "tree.plot_tree(classifier)\n"
   ]
  },
  {
   "cell_type": "code",
   "execution_count": 11,
   "id": "08063424",
   "metadata": {
    "pycharm": {
     "name": "#%%\n"
    }
   },
   "outputs": [
    {
     "data": {
      "text/plain": [
       "array(['virginica', 'versicolor', 'virginica', 'setosa', 'virginica',\n",
       "       'setosa', 'versicolor', 'virginica', 'versicolor', 'virginica',\n",
       "       'setosa', 'virginica', 'setosa', 'setosa', 'setosa', 'versicolor',\n",
       "       'virginica', 'versicolor', 'virginica', 'setosa', 'versicolor',\n",
       "       'virginica', 'setosa', 'versicolor', 'virginica', 'setosa',\n",
       "       'versicolor', 'versicolor', 'setosa', 'setosa'], dtype=object)"
      ]
     },
     "execution_count": 11,
     "metadata": {},
     "output_type": "execute_result"
    }
   ],
   "source": [
    "y_pred = classifier.predict(X_test)\n",
    "y_pred"
   ]
  },
  {
   "cell_type": "code",
   "execution_count": 12,
   "id": "a4669d87",
   "metadata": {
    "pycharm": {
     "name": "#%%\n"
    }
   },
   "outputs": [
    {
     "name": "stdout",
     "output_type": "stream",
     "text": [
      "[[11  0  0]\n",
      " [ 0  8  0]\n",
      " [ 0  1 10]]\n",
      "              precision    recall  f1-score   support\n",
      "\n",
      "      setosa       1.00      1.00      1.00        11\n",
      "  versicolor       0.89      1.00      0.94         8\n",
      "   virginica       1.00      0.91      0.95        11\n",
      "\n",
      "    accuracy                           0.97        30\n",
      "   macro avg       0.96      0.97      0.96        30\n",
      "weighted avg       0.97      0.97      0.97        30\n",
      "\n"
     ]
    }
   ],
   "source": [
    "from sklearn.metrics import classification_report, confusion_matrix\n",
    "print(confusion_matrix(y_test, y_pred))\n",
    "print(classification_report(y_test, y_pred))"
   ]
  },
  {
   "cell_type": "code",
   "execution_count": null,
   "id": "a6bb2a69",
   "metadata": {},
   "outputs": [],
   "source": []
  },
  {
   "cell_type": "markdown",
   "id": "52da607c",
   "metadata": {},
   "source": [
    "### Задание\n",
    "Постройте классификатор на основе дерева принятия решений следующего датасета:"
   ]
  },
  {
   "cell_type": "code",
   "execution_count": 3,
   "id": "37ddd2cc",
   "metadata": {},
   "outputs": [
    {
     "name": "stdout",
     "output_type": "stream",
     "text": [
      "[[0 1 0 0]\n",
      " [0 0 0 0]\n",
      " [0 0 0 0]\n",
      " [0 0 1 0]]\n",
      "              precision    recall  f1-score   support\n",
      "\n",
      "          -2       0.00      0.00      0.00       1.0\n",
      "          -1       0.00      0.00      0.00       0.0\n",
      "           1       0.00      0.00      0.00       0.0\n",
      "           2       0.00      0.00      0.00       1.0\n",
      "\n",
      "    accuracy                           0.00       2.0\n",
      "   macro avg       0.00      0.00      0.00       2.0\n",
      "weighted avg       0.00      0.00      0.00       2.0\n",
      "\n"
     ]
    },
    {
     "data": {
      "image/png": "[encoded data removed]",
      "text/plain": [
       "<Figure size 640x480 with 1 Axes>"
      ]
     },
     "metadata": {},
     "output_type": "display_data"
    }
   ],
   "source": [
    "import pandas as pd\n",
    "from pandas import DataFrame,Series\n",
    "import numpy as np\n",
    "import seaborn as sns\n",
    "import matplotlib.pyplot as plt\n",
    "from sklearn.model_selection import train_test_split\n",
    "from sklearn.tree import DecisionTreeClassifier\n",
    "from sklearn import tree\n",
    "from sklearn.metrics import classification_report, confusion_matrix\n",
    "\n",
    "X = np.array([[-1, -1], [-2, -1], [-3, -2], [1, 1], [2, 1], [3, 2]])\n",
    "target = [0, 0, 0, 1, 1, 1]\n",
    "\n",
    "dataset = pd.DataFrame(X, target)\n",
    "dataset.shape\n",
    "dataset.head()\n",
    "\n",
    "X_train, X_test, y_train, y_test = train_test_split(\n",
    "        dataset.iloc[:, :-1],\n",
    "        dataset.iloc[:, -1],\n",
    "        test_size = 0.20\n",
    ")\n",
    "\n",
    "X_train.shape, X_test.shape, y_train.shape, y_test.shape\n",
    "\n",
    "X_train.head()\n",
    "y_train.head()\n",
    "\n",
    "classifier = DecisionTreeClassifier()\n",
    "classifier.fit(X_train, y_train)\n",
    "\n",
    "tree.plot_tree(classifier)\n",
    "\n",
    "y_pred = classifier.predict(X_test)\n",
    "y_pred\n",
    "\n",
    "print(confusion_matrix(y_test, y_pred))\n",
    "print(classification_report(y_test, y_pred, zero_division = 0))"
   ]
  },
  {
   "cell_type": "markdown",
   "id": "db043a13",
   "metadata": {},
   "source": [
    "## 1.4.1 Пример"
   ]
  },
  {
   "cell_type": "code",
   "execution_count": 14,
   "id": "860d7eb1",
   "metadata": {
    "pycharm": {
     "name": "#%%\n"
    }
   },
   "outputs": [
    {
     "name": "stdout",
     "output_type": "stream",
     "text": [
      "(30, 2)\n"
     ]
    },
    {
     "data": {
      "image/png": "[encoded data removed]",
      "text/plain": [
       "<Figure size 432x288 with 1 Axes>"
      ]
     },
     "metadata": {
      "needs_background": "light"
     },
     "output_type": "display_data"
    },
    {
     "name": "stdout",
     "output_type": "stream",
     "text": [
      "[[ 1.1]\n",
      " [ 1.3]\n",
      " [ 1.5]\n",
      " [ 2. ]\n",
      " [ 2.2]\n",
      " [ 2.9]\n",
      " [ 3. ]\n",
      " [ 3.2]\n",
      " [ 3.2]\n",
      " [ 3.7]\n",
      " [ 3.9]\n",
      " [ 4. ]\n",
      " [ 4. ]\n",
      " [ 4.1]\n",
      " [ 4.5]\n",
      " [ 4.9]\n",
      " [ 5.1]\n",
      " [ 5.3]\n",
      " [ 5.9]\n",
      " [ 6. ]\n",
      " [ 6.8]\n",
      " [ 7.1]\n",
      " [ 7.9]\n",
      " [ 8.2]\n",
      " [ 8.7]\n",
      " [ 9. ]\n",
      " [ 9.5]\n",
      " [ 9.6]\n",
      " [10.3]\n",
      " [10.5]]\n",
      "[ 39343.  46205.  37731.  43525.  39891.  56642.  60150.  54445.  64445.\n",
      "  57189.  63218.  55794.  56957.  57081.  61111.  67938.  66029.  83088.\n",
      "  81363.  93940.  91738.  98273. 101302. 113812. 109431. 105582. 116969.\n",
      " 112635. 122391. 121872.]\n"
     ]
    },
    {
     "data": {
      "text/plain": [
       "DecisionTreeRegressor()"
      ]
     },
     "execution_count": 14,
     "metadata": {},
     "output_type": "execute_result"
    }
   ],
   "source": [
    "import pandas as pd\n",
    "import numpy as np\n",
    "import matplotlib.pyplot as plt\n",
    "url = 'https://raw.githubusercontent.com/AnnaShestova/salary-years-simple-linear-regression/master/Salary_Data.csv'\n",
    "dataset = pd.read_csv(url)\n",
    "dataset. head()\n",
    "#Исследуем набор данных\n",
    "print(dataset.shape)\n",
    "dataset.describe()\n",
    "# Нарисуем точечную диаграмму\n",
    "plt.scatter (dataset['YearsExperience'], dataset['Salary'], color = 'b', label = \"Заработная плата\")\n",
    "plt.xlabel(\"Опыт(лет)\")\n",
    "plt.ylabel(\"Заработная плата\")\n",
    "plt.show()\n",
    "from sklearn.tree import DecisionTreeRegressor\n",
    "X = dataset.iloc[:, :-1].values\n",
    "y = dataset.iloc[:, 1].values\n",
    "print(X)\n",
    "print(y)\n",
    "# Теперь, когда у нас есть атрибуты и метки, необходимо разделить их на а обучающий и тестовый наборы.\n",
    "# Приведенный фрагмент разделяет 80% данных на обучающий набор, а 20% данных - на набор тестов\n",
    "X_train, X_test, y_train, y_test = train_test_split(X, y, test_size = 0.2, random_state = 0)\n",
    "# далее можно обучить алгоритм линейной регрессии\n",
    "# необходимо импортировать класс LinearRegression, создать его экземпляр и вызвать метод fit()\n",
    "regressor = DecisionTreeRegressor()\n",
    "regressor.fit(X_train, y_train)"
   ]
  },
  {
   "cell_type": "code",
   "execution_count": 15,
   "id": "36a6b430",
   "metadata": {
    "pycharm": {
     "name": "#%%\n"
    }
   },
   "outputs": [
    {
     "data": {
      "text/plain": [
       "[Text(0.4956896551724138, 0.9375, 'X[0] <= 5.2\\nsquared_error = 614737637.832\\nsamples = 24\\nvalue = 73886.208'),\n",
       " Text(0.20689655172413793, 0.8125, 'X[0] <= 2.55\\nsquared_error = 81200345.857\\nsamples = 14\\nvalue = 54976.0'),\n",
       " Text(0.06896551724137931, 0.6875, 'X[0] <= 1.2\\nsquared_error = 7820714.0\\nsamples = 4\\nvalue = 42241.0'),\n",
       " Text(0.034482758620689655, 0.5625, 'squared_error = 0.0\\nsamples = 1\\nvalue = 39343.0'),\n",
       " Text(0.10344827586206896, 0.5625, 'X[0] <= 2.1\\nsquared_error = 6694994.667\\nsamples = 3\\nvalue = 43207.0'),\n",
       " Text(0.06896551724137931, 0.4375, 'X[0] <= 1.65\\nsquared_error = 1795600.0\\nsamples = 2\\nvalue = 44865.0'),\n",
       " Text(0.034482758620689655, 0.3125, 'squared_error = 0.0\\nsamples = 1\\nvalue = 46205.0'),\n",
       " Text(0.10344827586206896, 0.3125, 'squared_error = 0.0\\nsamples = 1\\nvalue = 43525.0'),\n",
       " Text(0.13793103448275862, 0.4375, 'squared_error = 0.0\\nsamples = 1\\nvalue = 39891.0'),\n",
       " Text(0.3448275862068966, 0.6875, 'X[0] <= 4.7\\nsquared_error = 19731272.6\\nsamples = 10\\nvalue = 60070.0'),\n",
       " Text(0.27586206896551724, 0.5625, 'X[0] <= 4.25\\nsquared_error = 9499922.484\\nsamples = 8\\nvalue = 58341.625'),\n",
       " Text(0.2413793103448276, 0.4375, 'X[0] <= 3.45\\nsquared_error = 9604901.143\\nsamples = 7\\nvalue = 57946.0'),\n",
       " Text(0.1724137931034483, 0.3125, 'X[0] <= 2.95\\nsquared_error = 14313358.25\\nsamples = 4\\nvalue = 58920.5'),\n",
       " Text(0.13793103448275862, 0.1875, 'squared_error = 0.0\\nsamples = 1\\nvalue = 56642.0'),\n",
       " Text(0.20689655172413793, 0.1875, 'X[0] <= 3.1\\nsquared_error = 16777116.667\\nsamples = 3\\nvalue = 59680.0'),\n",
       " Text(0.1724137931034483, 0.0625, 'squared_error = 0.0\\nsamples = 1\\nvalue = 60150.0'),\n",
       " Text(0.2413793103448276, 0.0625, 'squared_error = 25000000.0\\nsamples = 2\\nvalue = 59445.0'),\n",
       " Text(0.3103448275862069, 0.3125, 'X[0] <= 3.85\\nsquared_error = 372490.889\\nsamples = 3\\nvalue = 56646.667'),\n",
       " Text(0.27586206896551724, 0.1875, 'squared_error = 0.0\\nsamples = 1\\nvalue = 57189.0'),\n",
       " Text(0.3448275862068966, 0.1875, 'squared_error = 338142.25\\nsamples = 2\\nvalue = 56375.5'),\n",
       " Text(0.3103448275862069, 0.4375, 'squared_error = 0.0\\nsamples = 1\\nvalue = 61111.0'),\n",
       " Text(0.41379310344827586, 0.5625, 'X[0] <= 5.0\\nsquared_error = 911070.25\\nsamples = 2\\nvalue = 66983.5'),\n",
       " Text(0.3793103448275862, 0.4375, 'squared_error = 0.0\\nsamples = 1\\nvalue = 67938.0'),\n",
       " Text(0.4482758620689655, 0.4375, 'squared_error = 0.0\\nsamples = 1\\nvalue = 66029.0'),\n",
       " Text(0.7844827586206896, 0.8125, 'X[0] <= 8.05\\nsquared_error = 160167356.45\\nsamples = 10\\nvalue = 100360.5'),\n",
       " Text(0.6379310344827587, 0.6875, 'X[0] <= 5.95\\nsquared_error = 53566814.556\\nsamples = 6\\nvalue = 91617.333'),\n",
       " Text(0.5517241379310345, 0.5625, 'X[0] <= 5.6\\nsquared_error = 743906.25\\nsamples = 2\\nvalue = 82225.5'),\n",
       " Text(0.5172413793103449, 0.4375, 'squared_error = 0.0\\nsamples = 1\\nvalue = 83088.0'),\n",
       " Text(0.5862068965517241, 0.4375, 'squared_error = 0.0\\nsamples = 1\\nvalue = 81363.0'),\n",
       " Text(0.7241379310344828, 0.5625, 'X[0] <= 6.95\\nsquared_error = 13823368.688\\nsamples = 4\\nvalue = 96313.25'),\n",
       " Text(0.6551724137931034, 0.4375, 'X[0] <= 6.4\\nsquared_error = 1212201.0\\nsamples = 2\\nvalue = 92839.0'),\n",
       " Text(0.6206896551724138, 0.3125, 'squared_error = 0.0\\nsamples = 1\\nvalue = 93940.0'),\n",
       " Text(0.6896551724137931, 0.3125, 'squared_error = 0.0\\nsamples = 1\\nvalue = 91738.0'),\n",
       " Text(0.7931034482758621, 0.4375, 'X[0] <= 7.5\\nsquared_error = 2293710.25\\nsamples = 2\\nvalue = 99787.5'),\n",
       " Text(0.7586206896551724, 0.3125, 'squared_error = 0.0\\nsamples = 1\\nvalue = 98273.0'),\n",
       " Text(0.8275862068965517, 0.3125, 'squared_error = 0.0\\nsamples = 1\\nvalue = 101302.0'),\n",
       " Text(0.9310344827586207, 0.6875, 'X[0] <= 10.05\\nsquared_error = 33407056.688\\nsamples = 4\\nvalue = 113475.25'),\n",
       " Text(0.896551724137931, 0.5625, 'X[0] <= 8.6\\nsquared_error = 13207004.222\\nsamples = 3\\nvalue = 110676.333'),\n",
       " Text(0.8620689655172413, 0.4375, 'squared_error = 0.0\\nsamples = 1\\nvalue = 113812.0'),\n",
       " Text(0.9310344827586207, 0.4375, 'X[0] <= 9.3\\nsquared_error = 12436202.25\\nsamples = 2\\nvalue = 109108.5'),\n",
       " Text(0.896551724137931, 0.3125, 'squared_error = 0.0\\nsamples = 1\\nvalue = 105582.0'),\n",
       " Text(0.9655172413793104, 0.3125, 'squared_error = 0.0\\nsamples = 1\\nvalue = 112635.0'),\n",
       " Text(0.9655172413793104, 0.5625, 'squared_error = 0.0\\nsamples = 1\\nvalue = 121872.0')]"
      ]
     },
     "execution_count": 15,
     "metadata": {},
     "output_type": "execute_result"
    },
    {
     "data": {
      "image/png": "[encoded data removed]",
      "text/plain": [
       "<Figure size 432x288 with 1 Axes>"
      ]
     },
     "metadata": {
      "needs_background": "light"
     },
     "output_type": "display_data"
    }
   ],
   "source": [
    "from sklearn import tree\n",
    "tree.plot_tree(regressor)"
   ]
  },
  {
   "cell_type": "code",
   "execution_count": 16,
   "id": "757fbd49",
   "metadata": {
    "pycharm": {
     "name": "#%%\n"
    }
   },
   "outputs": [
    {
     "data": {
      "text/plain": [
       "array([ 46205. , 121872. ,  56375.5,  56375.5, 112635. , 105582. ])"
      ]
     },
     "execution_count": 16,
     "metadata": {},
     "output_type": "execute_result"
    }
   ],
   "source": [
    "#Построим прогноз:\n",
    "y_pred = regressor.predict(X_test)\n",
    "y_pred\n",
    "#Теперь сравним некоторые из наших прогнозируемых значений с фактическими значениями:"
   ]
  },
  {
   "cell_type": "code",
   "execution_count": 17,
   "id": "5f55226d",
   "metadata": {
    "pycharm": {
     "name": "#%%\n"
    }
   },
   "outputs": [
    {
     "data": {
      "text/html": [
       "<div>\n",
       "<style scoped>\n",
       "    .dataframe tbody tr th:only-of-type {\n",
       "        vertical-align: middle;\n",
       "    }\n",
       "\n",
       "    .dataframe tbody tr th {\n",
       "        vertical-align: top;\n",
       "    }\n",
       "\n",
       "    .dataframe thead th {\n",
       "        text-align: right;\n",
       "    }\n",
       "</style>\n",
       "<table border=\"1\" class=\"dataframe\">\n",
       "  <thead>\n",
       "    <tr style=\"text-align: right;\">\n",
       "      <th></th>\n",
       "      <th>Actual</th>\n",
       "      <th>Predicted</th>\n",
       "    </tr>\n",
       "  </thead>\n",
       "  <tbody>\n",
       "    <tr>\n",
       "      <th>0</th>\n",
       "      <td>37731.0</td>\n",
       "      <td>46205.0</td>\n",
       "    </tr>\n",
       "    <tr>\n",
       "      <th>1</th>\n",
       "      <td>122391.0</td>\n",
       "      <td>121872.0</td>\n",
       "    </tr>\n",
       "    <tr>\n",
       "      <th>2</th>\n",
       "      <td>57081.0</td>\n",
       "      <td>56375.5</td>\n",
       "    </tr>\n",
       "    <tr>\n",
       "      <th>3</th>\n",
       "      <td>63218.0</td>\n",
       "      <td>56375.5</td>\n",
       "    </tr>\n",
       "    <tr>\n",
       "      <th>4</th>\n",
       "      <td>116969.0</td>\n",
       "      <td>112635.0</td>\n",
       "    </tr>\n",
       "  </tbody>\n",
       "</table>\n",
       "</div>"
      ],
      "text/plain": [
       "     Actual  Predicted\n",
       "0   37731.0    46205.0\n",
       "1  122391.0   121872.0\n",
       "2   57081.0    56375.5\n",
       "3   63218.0    56375.5\n",
       "4  116969.0   112635.0"
      ]
     },
     "execution_count": 17,
     "metadata": {},
     "output_type": "execute_result"
    }
   ],
   "source": [
    "df=pd.DataFrame({'Actual':y_test, 'Predicted':y_pred})\n",
    "df.head()"
   ]
  },
  {
   "cell_type": "code",
   "execution_count": 18,
   "id": "2259a028",
   "metadata": {
    "pycharm": {
     "name": "#%%\n"
    }
   },
   "outputs": [
    {
     "name": "stdout",
     "output_type": "stream",
     "text": [
      "Mean Squared Error: 25498988.416666668\n",
      "Mean Absolute Error: 4120.666666666667\n"
     ]
    },
    {
     "data": {
      "text/plain": [
       "5.421715809463662"
      ]
     },
     "execution_count": 18,
     "metadata": {},
     "output_type": "execute_result"
    }
   ],
   "source": [
    "#Расчитаем среднюю абсолютную и среднеквадратичную ошибку регрессии:\n",
    "from sklearn import metrics\n",
    "print('Mean Squared Error:', metrics.mean_squared_error(y_test, y_pred))\n",
    "print('Mean Absolute Error:', metrics.mean_absolute_error(y_test, y_pred))\n",
    "metrics.mean_absolute_error(y_test, y_pred) / np.average(y) * 100"
   ]
  },
  {
   "cell_type": "markdown",
   "id": "1ed1ca05",
   "metadata": {},
   "source": [
    "## Задание 1.4.1"
   ]
  },
  {
   "cell_type": "code",
   "execution_count": 6,
   "id": "0e054793",
   "metadata": {},
   "outputs": [
    {
     "name": "stdout",
     "output_type": "stream",
     "text": [
      "(48, 5)\n"
     ]
    },
    {
     "data": {
      "image/png": "[encoded data removed]",
      "text/plain": [
       "<Figure size 640x480 with 1 Axes>"
      ]
     },
     "metadata": {},
     "output_type": "display_data"
    },
    {
     "name": "stdout",
     "output_type": "stream",
     "text": [
      "[[9.0000e+00 3.5710e+03 1.9760e+03 5.2500e-01]\n",
      " [9.0000e+00 4.0920e+03 1.2500e+03 5.7200e-01]\n",
      " [9.0000e+00 3.8650e+03 1.5860e+03 5.8000e-01]\n",
      " [7.5000e+00 4.8700e+03 2.3510e+03 5.2900e-01]\n",
      " [8.0000e+00 4.3990e+03 4.3100e+02 5.4400e-01]\n",
      " [1.0000e+01 5.3420e+03 1.3330e+03 5.7100e-01]\n",
      " [8.0000e+00 5.3190e+03 1.1868e+04 4.5100e-01]\n",
      " [8.0000e+00 5.1260e+03 2.1380e+03 5.5300e-01]\n",
      " [8.0000e+00 4.4470e+03 8.5770e+03 5.2900e-01]\n",
      " [7.0000e+00 4.5120e+03 8.5070e+03 5.5200e-01]\n",
      " [8.0000e+00 4.3910e+03 5.9390e+03 5.3000e-01]\n",
      " [7.5000e+00 5.1260e+03 1.4186e+04 5.2500e-01]\n",
      " [7.0000e+00 4.8170e+03 6.9300e+03 5.7400e-01]\n",
      " [7.0000e+00 4.2070e+03 6.5800e+03 5.4500e-01]\n",
      " [7.0000e+00 4.3320e+03 8.1590e+03 6.0800e-01]\n",
      " [7.0000e+00 4.3180e+03 1.0340e+04 5.8600e-01]\n",
      " [7.0000e+00 4.2060e+03 8.5080e+03 5.7200e-01]\n",
      " [7.0000e+00 3.7180e+03 4.7250e+03 5.4000e-01]\n",
      " [7.0000e+00 4.7160e+03 5.9150e+03 7.2400e-01]\n",
      " [8.5000e+00 4.3410e+03 6.0100e+03 6.7700e-01]\n",
      " [7.0000e+00 4.5930e+03 7.8340e+03 6.6300e-01]\n",
      " [8.0000e+00 4.9830e+03 6.0200e+02 6.0200e-01]\n",
      " [9.0000e+00 4.8970e+03 2.4490e+03 5.1100e-01]\n",
      " [9.0000e+00 4.2580e+03 4.6860e+03 5.1700e-01]\n",
      " [8.5000e+00 4.5740e+03 2.6190e+03 5.5100e-01]\n",
      " [9.0000e+00 3.7210e+03 4.7460e+03 5.4400e-01]\n",
      " [8.0000e+00 3.4480e+03 5.3990e+03 5.4800e-01]\n",
      " [7.5000e+00 3.8460e+03 9.0610e+03 5.7900e-01]\n",
      " [8.0000e+00 4.1880e+03 5.9750e+03 5.6300e-01]\n",
      " [9.0000e+00 3.6010e+03 4.6500e+03 4.9300e-01]\n",
      " [7.0000e+00 3.6400e+03 6.9050e+03 5.1800e-01]\n",
      " [7.0000e+00 3.3330e+03 6.5940e+03 5.1300e-01]\n",
      " [8.0000e+00 3.0630e+03 6.5240e+03 5.7800e-01]\n",
      " [7.5000e+00 3.3570e+03 4.1210e+03 5.4700e-01]\n",
      " [8.0000e+00 3.5280e+03 3.4950e+03 4.8700e-01]\n",
      " [6.5800e+00 3.8020e+03 7.8340e+03 6.2900e-01]\n",
      " [5.0000e+00 4.0450e+03 1.7782e+04 5.6600e-01]\n",
      " [7.0000e+00 3.8970e+03 6.3850e+03 5.8600e-01]\n",
      " [8.5000e+00 3.6350e+03 3.2740e+03 6.6300e-01]\n",
      " [7.0000e+00 4.3450e+03 3.9050e+03 6.7200e-01]\n",
      " [7.0000e+00 4.4490e+03 4.6390e+03 6.2600e-01]\n",
      " [7.0000e+00 3.6560e+03 3.9850e+03 5.6300e-01]\n",
      " [7.0000e+00 4.3000e+03 3.6350e+03 6.0300e-01]\n",
      " [7.0000e+00 3.7450e+03 2.6110e+03 5.0800e-01]\n",
      " [6.0000e+00 5.2150e+03 2.3020e+03 6.7200e-01]\n",
      " [9.0000e+00 4.4760e+03 3.9420e+03 5.7100e-01]\n",
      " [7.0000e+00 4.2960e+03 4.0830e+03 6.2300e-01]\n",
      " [7.0000e+00 5.0020e+03 9.7940e+03 5.9300e-01]]\n",
      "[3571 4092 3865 4870 4399 5342 5319 5126 4447 4512 4391 5126 4817 4207\n",
      " 4332 4318 4206 3718 4716 4341 4593 4983 4897 4258 4574 3721 3448 3846\n",
      " 4188 3601 3640 3333 3063 3357 3528 3802 4045 3897 3635 4345 4449 3656\n",
      " 4300 3745 5215 4476 4296 5002]\n",
      "Mean Sq Error: 140744.1\n",
      "Mean Ab Error: 238.9\n"
     ]
    },
    {
     "data": {
      "text/plain": [
       "5.6319987426820175"
      ]
     },
     "execution_count": 6,
     "metadata": {},
     "output_type": "execute_result"
    },
    {
     "data": {
      "image/png": "[encoded data removed]",
      "text/plain": [
       "<Figure size 640x480 with 1 Axes>"
      ]
     },
     "metadata": {},
     "output_type": "display_data"
    }
   ],
   "source": [
    "import pandas as pd\n",
    "import numpy as np\n",
    "import matplotlib.pyplot as plt\n",
    "import seaborn as seabornInstance\n",
    "from sklearn.model_selection import train_test_split\n",
    "from sklearn.linear_model import LinearRegression\n",
    "from sklearn import metrics\n",
    "from sklearn.tree import DecisionTreeClassifier\n",
    "from sklearn import tree\n",
    "\n",
    "url = 'https://raw.githubusercontent.com/likarajo/petrol_consumption/master/data/petrol_consumption.csv'\n",
    "ds = pd.read_csv(url)\n",
    "ds.head()\n",
    "\n",
    "print(ds.shape)\n",
    "ds.describe()\n",
    "\n",
    "plt.scatter(ds['Average_income'], ds['Petrol_tax'], color = 'b', label = \"GRAFF\")\n",
    "plt.xlabel(\"Зарабаток\")\n",
    "plt.ylabel(\"Топливо\")\n",
    "plt.show()\n",
    "\n",
    "X = ds.iloc[:, :-1].values\n",
    "y = ds.iloc[:, 1].values\n",
    "print(X)\n",
    "print(y)\n",
    "\n",
    "X_train, X_test, y_train, y_test = train_test_split(X, y, test_size = 0.2, random_state = 0)\n",
    "\n",
    "regressor = DecisionTreeClassifier()\n",
    "regressor.fit(X_train, y_train)\n",
    "\n",
    "tree.plot_tree(regressor)\n",
    "y_pred = regressor.predict(X_test)\n",
    "y_pred\n",
    "\n",
    "df = pd.DataFrame({'Actual':y_test, 'Predicted':y_pred})\n",
    "df\n",
    "\n",
    "print('Mean Sq Error:', metrics.mean_squared_error(y_test, y_pred))\n",
    "print('Mean Ab Error:', metrics.mean_absolute_error(y_test, y_pred))\n",
    "\n",
    "metrics.mean_absolute_error(y_test, y_pred) / np.average(y) * 100"
   ]
  }
 ],
 "metadata": {
  "kernelspec": {
   "display_name": "Python 3 (ipykernel)",
   "language": "python",
   "name": "python3"
  },
  "language_info": {
   "codemirror_mode": {
    "name": "ipython",
    "version": 3
   },
   "file_extension": ".py",
   "mimetype": "text/x-python",
   "name": "python",
   "nbconvert_exporter": "python",
   "pygments_lexer": "ipython3",
   "version": "3.9.16"
  }
 },
 "nbformat": 4,
 "nbformat_minor": 5
}
